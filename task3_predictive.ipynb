{
 "cells": [
  {
   "cell_type": "markdown",
   "id": "928dd607",
   "metadata": {},
   "source": [
    "# Task 3 — Predictive notebook\n",
    "This notebook demonstrates a minimal classification pipeline: synthetic data generation, train/test split, a scikit-learn LogisticRegression model, and evaluation (accuracy and F1). It is self-contained so you can run it locally."
   ]
  },
  {
   "cell_type": "code",
   "execution_count": null,
   "id": "8bbc7e36",
   "metadata": {},
   "outputs": [],
   "source": [
    "# Imports\n",
    "import numpy as np\n",
    "import pandas as pd\n",
    "from sklearn.datasets import make_classification\n",
    "from sklearn.model_selection import train_test_split\n",
    "from sklearn.linear_model import LogisticRegression\n",
    "from sklearn.metrics import accuracy_score, f1_score, classification_report\n",
    "import joblib"
   ]
  },
  {
   "cell_type": "code",
   "execution_count": null,
   "id": "60fab3de",
   "metadata": {},
   "outputs": [],
   "source": [
    "# Create synthetic data\n",
    "X, y = make_classification(n_samples=1000, n_features=20, n_informative=8, n_redundant=2, random_state=42)\n",
    "X_train, X_test, y_train, y_test = train_test_split(X, y, test_size=0.2, random_state=42)\n",
    "print('Train size:', X_train.shape[0], 'Test size:', X_test.shape[0])"
   ]
  },
  {
   "cell_type": "code",
   "execution_count": null,
   "id": "ab1d7baa",
   "metadata": {},
   "outputs": [],
   "source": [
    "# Train a logistic regression model\n",
    "model = LogisticRegression(max_iter=1000, solver='lbfgs')\n",
    "model.fit(X_train, y_train)\n",
    "joblib.dump(model, 'task3_model.joblib')\n",
    "print('Model trained and saved to task3_model.joblib')"
   ]
  },
  {
   "cell_type": "code",
   "execution_count": null,
   "id": "6433713c",
   "metadata": {},
   "outputs": [],
   "source": [
    "# Evaluate\n",
    "y_pred = model.predict(X_test)\n",
    "acc = accuracy_score(y_test, y_pred)\n",
    "f1 = f1_score(y_test, y_pred)\n",
    "print(f'Accuracy: {acc:.4f}')\n",
    "print(f'F1 score: {f1:.4f}')\n",
    "print('\n",
    "Classification report:\n",
    "')\n",
    "print(classification_report(y_test, y_pred))"
   ]
  },
  {
   "cell_type": "markdown",
   "id": "81204f0a",
   "metadata": {},
   "source": [
    "## Notes\n",
    "- This uses synthetic data for demonstration. Replace with real dataset loading code where needed.\n",
    "- To reproduce results, install the required packages: scikit-learn, pandas, joblib."
   ]
  }
 ],
 "metadata": {
  "language_info": {
   "name": "python"
  }
 },
 "nbformat": 4,
 "nbformat_minor": 5
}
